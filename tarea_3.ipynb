{
  "nbformat": 4,
  "nbformat_minor": 0,
  "metadata": {
    "colab": {
      "name": "tarea 3",
      "provenance": [],
      "authorship_tag": "ABX9TyMY0GrwFXREtScY+p6TWYOa",
      "include_colab_link": true
    },
    "kernelspec": {
      "name": "python3",
      "display_name": "Python 3"
    },
    "language_info": {
      "name": "python"
    }
  },
  "cells": [
    {
      "cell_type": "markdown",
      "metadata": {
        "id": "view-in-github",
        "colab_type": "text"
      },
      "source": [
        "<a href=\"https://colab.research.google.com/github/eberthrosales/Tarea01fpEERC/blob/main/tarea_3.ipynb\" target=\"_parent\"><img src=\"https://colab.research.google.com/assets/colab-badge.svg\" alt=\"Open In Colab\"/></a>"
      ]
    },
    {
      "cell_type": "markdown",
      "source": [
        "3.1 Realice un algoritmo para determinar si una persona puede votar en función a su edad en las próximas elecciones regionales y locales."
      ],
      "metadata": {
        "id": "rMMU1AkoWJOQ"
      }
    },
    {
      "cell_type": "code",
      "execution_count": null,
      "metadata": {
        "id": "tXrj57lBVok2"
      },
      "outputs": [],
      "source": [
        "#Declarar Variables\n",
        "edad:int\n",
        "mensaje:str\n",
        "#Datos de Entrada\n",
        "edad=int(input(\"Ingrese su edad:\"))\n",
        "#Proceso y Datos de Salida\n",
        "if edad>=18:\n",
        "  mensaje=(f\"Puede votar porque su edad es {edad}\")\n",
        "else:\n",
        "  mensaje=(f\"No puede votar porque su edad es {edad}\")\n",
        "#Datos de Salida\n",
        "print(mensaje)"
      ]
    },
    {
      "cell_type": "markdown",
      "source": [
        "3.2 Realice un algoritmo para determinar el sueldo semanal de un trabajador con base a las horas trabajadas y el pago por hora, considerando que después de las 40 horas cada hora se considera como excedente y se paga el doble."
      ],
      "metadata": {
        "id": "qrqGCQElWU2J"
      }
    },
    {
      "cell_type": "code",
      "source": [
        "#Declarar Variables\n",
        "pagohora:float\n",
        "cantidadhora:int\n",
        "sueldosemanal:float\n",
        "#Datos de Entrada\n",
        "pagohora=float(input(\"Ingrese el costo por hora:\"))\n",
        "cantidadhora=int(input(\"Ingrese cantidad horas trabajadas en la semana:\"))\n",
        "#Proceso y Datos de Salida\n",
        "if cantidadhora>40:\n",
        "  sueldosemanal=40*pagohora+2*((cantidadhora-40)*pagohora)\n",
        "else:\n",
        "  sueldosemanal=cantidadhora*pagohora\n",
        "#Datos de Salida\n",
        "print(f\"El sueldo del trabajador es {sueldosemanal}\")"
      ],
      "metadata": {
        "id": "cZAigYhiWTxR"
      },
      "execution_count": null,
      "outputs": []
    },
    {
      "cell_type": "markdown",
      "source": [
        "3.3 El 14 de febrero una persona desea comprarle un regalo al ser querido que más aprecia en ese momento, su dilema radica En qué regalo puede hacerle, las alternativas que tiene son las siguientes: "
      ],
      "metadata": {
        "id": "_cBbPXPyXQnF"
      }
    },
    {
      "cell_type": "code",
      "source": [
        "regalo: int\n",
        "dinero: float\n",
        "dinero=float(input(\"¿cuanto dinero tienes para el regalo? \"))\n",
        "if dinero<=10:\n",
        "    regalo=(f\"El regalo sera una tarjeta\")\n",
        "elif dinero>=11 and dinero<=100:\n",
        "    regalo=(f\"El regalo sera un chocolate\")\n",
        "elif dinero>=101 and dinero<=250:\n",
        "    regalo=(f\"El regalo sera flores\")\n",
        "elif dinero>=251:\n",
        "    regalo=(f\"El regalo sera un anillo\")\n",
        "print(f\"{regalo} por San Valentin\")"
      ],
      "metadata": {
        "id": "td0MiH4ZaCSm"
      },
      "execution_count": null,
      "outputs": []
    },
    {
      "cell_type": "markdown",
      "source": [
        "3.4 Plaza Vea requiere un algoritmo que le permita determinar cuánto debe cobrar por el uso su estacionamiento a sus clientes. Las tarifas que se tienen son las siguientes:\n",
        "Las dos primeras horas es a S/ 5.00 c/h\n",
        "Las siguientes tres horas es a S/ 4.00 c/h\n",
        "Los cinco siguientes a S/ 3.00 c/h\n",
        "Después de diez horas el costo por cada una es de S/2.00 \n"
      ],
      "metadata": {
        "id": "pn1qoIzxXWdW"
      }
    },
    {
      "cell_type": "code",
      "source": [
        "horas: float\n",
        "precio: float\n",
        "horas=float(input(\"¿cuntas horas uso el estacionamiento? \"))\n",
        "if horas<=2:\n",
        "    precio=horas*5\n",
        "elif horas<=5:\n",
        "    precio=horas*4\n",
        "elif horas<=10:\n",
        "    precio=horas*3\n",
        "elif horas>=10:\n",
        "    precio=horas*2\n",
        "print(f\"El precio por las horas en el estacionamiento es de: {precio} soles\")"
      ],
      "metadata": {
        "id": "tBIOX1eKayIr"
      },
      "execution_count": null,
      "outputs": []
    },
    {
      "cell_type": "markdown",
      "source": [
        "3.5 Se tiene el nombre y la edad de 3 personas. Se desea saber el nombre y la edad de la persona de menor edad. Realice el algoritmo correspondiente."
      ],
      "metadata": {
        "id": "EpXzYEJPWsy1"
      }
    },
    {
      "cell_type": "code",
      "source": [
        "#Declarar Variables\n",
        "nombre1:str\n",
        "nombre2:str\n",
        "nombre3:str\n",
        "edad1:int\n",
        "edad2:int\n",
        "edad3:int\n",
        "menorpersona:str\n",
        "menoredad:int\n",
        "#Datos de entrada\n",
        "nombre1=str(input(\"Ingrese nombre 1:\"))\n",
        "edad1=int(input(\"Ingrese edad de persona 1:\"))\n",
        "nombre2=str(input(\"Ingrese nombre 2:\"))\n",
        "edad2=int(input(\"Ingrese edad de persona 2:\"))\n",
        "nombre3=str(input(\"Ingrese nombre 3:\"))\n",
        "edad3=int(input(\"Ingrese edad de persona 3:\"))\n",
        "#Proceso\n",
        "if edad1<edad2 and edad1<edad3:\n",
        "  menoredad=edad1\n",
        "  menorpersona=nombre1\n",
        "elif edad2<edad1 and edad2<edad3:\n",
        "  menoredad=edad2\n",
        "  menorpersona=nombre2\n",
        "else:\n",
        "  menoredad=edad3\n",
        "  menorpersona=nombre3\n",
        "#Datos de Salida\n",
        "print(f\"La persona con menor edad es: {menoredad} y se llama {menorpersona}\")"
      ],
      "metadata": {
        "id": "RPfEDz5vYFaI"
      },
      "execution_count": null,
      "outputs": []
    },
    {
      "cell_type": "markdown",
      "source": [
        "3.6 Realice un algoritmo para determinar el costo y el descuento que tendrá un artículo. Considere que, si su precio es mayor o igual a S/ 200 se le aplica un descuento de 15%, y si su precio es mayor a S/ 100 pero menor a S/ 200 el descuento es de 12% y si es menor a 100 solo es de 10%."
      ],
      "metadata": {
        "id": "FSuGbBNba-gY"
      }
    },
    {
      "cell_type": "code",
      "source": [
        "    #Definir variables\n",
        "    precio:float()\n",
        "    total:float()\n",
        "    totDes:float()\n",
        "    descuento:float()\n",
        "    #Datos de entrada\n",
        "    precio=float(input(\"Ingrese el precio: \"))\n",
        "    #Proceso\n",
        "    if precio>=200:\n",
        "        descuento=0.15\n",
        "    elif precio>=100 and precio<200:\n",
        "        descuento=0.12\n",
        "    else:\n",
        "        descuento=0.10\n",
        "    totDes=precio*descuento\n",
        "    total=precio-totDes\n",
        "    #Datos de salida\n",
        "    print(f\"El total a pagar es: {total}\")"
      ],
      "metadata": {
        "id": "9rUcvArabCet"
      },
      "execution_count": null,
      "outputs": []
    },
    {
      "cell_type": "markdown",
      "source": [
        "3.7 El presidente de la República ha decidido estimular a todos los estudiantes de la universidad mediante la asignación de becas mensuales para esto se tomará en consideración los siguientes criterios.\n",
        "Para alumnos mayores de 18 años con promedio mayor o igual a 18 la beca será de S/ 2000; con promedio mayor o igual a 15 de S/ 1000; para los promedios menores de 15 pero mayores o iguales a 12. de S/ 500; a los demás se les enviará una carta de invitación invitándolos a que estudien más en el próximo ciclo académico. A los alumnos de 18 años o menores de esta edad con promedios mayores o iguales a 18 se les dará S/ 3000; con promedios menores a 18 pero mayores o iguales a 16, S/ 2000; para los alumnos con promedios menores a 16 pero mayores o iguales a 12 se les dará S/ 100, y a los alumnos que tengan promedio menor a 12 se les enviará una carta de invitación. Realice el algoritmo correspondiente. \n"
      ],
      "metadata": {
        "id": "ZZs-N2ZqbrvT"
      }
    },
    {
      "cell_type": "code",
      "source": [
        "    #Definir variables\n",
        "    años:float\n",
        "    promedio:float\n",
        "    mensaje:str\n",
        "    #Datos de entrada\n",
        "    años=float(input(\"Ingrese su edad: \"))\n",
        "    promedio=float(input(\"Ingrese su promedio: \"))\n",
        "    #proceso\n",
        "    if años>18 and promedio>=18:\n",
        "        mensaje=(\"Su beca mensual es de: S/2000\")\n",
        "    elif años>18 and promedio>=15 and promedio<18:\n",
        "        mensaje=(\"Su beca mensual es de: S/1000\")\n",
        "    elif años>18 and promedio>=12 and promedio<15:\n",
        "        mensaje=(\"Su beca mensual es de: S/500\")\n",
        "    elif años<=18 and promedio>=18:\n",
        "        mensaje=(\"Su beca mensual es de: S/3000\")\n",
        "    elif años<=18 and promedio>=16 and promedio<18:\n",
        "        mensaje=(\"Su beca mensual es de: S/2000\")\n",
        "    elif años>=18 and promedio>=12 and promedio<16:\n",
        "        mensaje=(\"Su beca mensual es de: S/1000\")\n",
        "    else:\n",
        "        mensaje=(\"Se le invita a seguir estudiando y mejorar su promedio en el siguiente ciclo academico\")\n",
        "    #Datos de salida\n",
        "    print(mensaje)"
      ],
      "metadata": {
        "id": "MF5cgnArbtiD"
      },
      "execution_count": null,
      "outputs": []
    },
    {
      "cell_type": "markdown",
      "source": [
        "3.8 Cierta empresa proporciona un Bono mensual a sus trabajadores, el cuál puede ser por su antigüedad o bien por el monto de su sueldo (el que sea mayor), de la siguiente forma:\n",
        "Cuando la antigüedad es mayor a 2 años, pero menor a 5, se otorga 20% de su sueldo; cuándo es de 5 años o más, 30%.  Ahora bien, el bono por concepto de sueldo, sí este es menor a S/ 1000, pero menor o igual a S/ 3500, se otorga 15% de su sueldo, para más de S/ 3500, 10%.  Realice el algoritmo correspondiente para calcular los dos tipos de bono y asignar el mayor. \n"
      ],
      "metadata": {
        "id": "vPxLsiuWX1dS"
      }
    },
    {
      "cell_type": "code",
      "source": [
        "#Declarar Variables\n",
        "anhoAnti:int\n",
        "sueldo:float\n",
        "bonoAnti:float=0\n",
        "bonoSueldo:float\n",
        "bonoMayor:float\n",
        "#Datos de Entrada\n",
        "anhoAnti=int(input(\"Ingrese anho de antiguedad:\"))\n",
        "sueldo=float(input(\"Ingrese el sueldo reciente:\"))\n",
        "#Proceso y Datos de Salida\n",
        "if anhoAnti>2 and anhoAnti<5:\n",
        "  bonoAnti=sueldo*0.20\n",
        "elif anhoAnti>=5:\n",
        "  bonoAnti=sueldo*0.30\n",
        "\n",
        "if sueldo>3500:\n",
        "  bonoSueldo=sueldo*0.10\n",
        "elif sueldo>=1000 and sueldo<=3500:\n",
        "  bonoSueldo=sueldo*0.15\n",
        "else:\n",
        "  bonoSueldo=sueldo*0.25\n",
        "\n",
        "if bonoAnti>bonoSueldo:\n",
        "  bonoMayor=bonoAnti\n",
        "else:\n",
        "  bonoMayor=bonoSueldo\n",
        "#Datos de Salida  \n",
        "print(f\"El Bono que corresponde es: {bonoMayor}\")"
      ],
      "metadata": {
        "id": "zOHV9y-qX6g8"
      },
      "execution_count": null,
      "outputs": []
    },
    {
      "cell_type": "markdown",
      "source": [
        "3.9 Una compañía de seguros para autos ofrece dos tipos de póliza: cobertura amplia (A) y daños a terceros (B).  Para el plan A, la cuota base es de S/ 1200, y para el B es de S/ 950.  Ambos planes se les carga el 10% del costo si la persona que conduce tiene por hábito beber alcohol, 5% se utiliza lentes, 5% sí padece alguna enfermedad, cómo deficiencia cardíaca o diabetes, y si tiene más de 40 años se le carga 20%, de lo contrario solo 10%.  Todos estos cargos se realizan sobre el costo base. Realice el algoritmo para determinar cuánto le cuesta a una persona contratar una póliza."
      ],
      "metadata": {
        "id": "0NMhrq0ZYWqe"
      }
    },
    {
      "cell_type": "code",
      "source": [
        "    #Definir variables\n",
        "    tipo:str()\n",
        "    toma:float()\n",
        "    carToma:float()\n",
        "    lentes:float()\n",
        "    carLentes:float()\n",
        "    enfer:float()\n",
        "    carEnfer:float()\n",
        "    años:float()\n",
        "    carAños:float()\n",
        "    cuota:float()\n",
        "    total:float()\n",
        "    #Datos de entrada\n",
        "    tipo=str(input(\"Que tipo de poliza quiere: \"))\n",
        "    años=float(input(\"Ingrese cuantos años tiene: \"))\n",
        "    print(\"Respondo con 1 = si o 2 = no\")\n",
        "    lentes=float(input(\"¿Usa lentes?: \"))\n",
        "    toma=float(input(\"¿Tiene por hábito beber alcohol?: \"))\n",
        "    enfer=float(input(\"¿Padece alguna enfermedad, cómo deficiencia cardíaca o diabetes?: \"))\n",
        "    #proceso\n",
        "    if tipo==\"A\" or tipo==\"a\":\n",
        "        cuota=1200\n",
        "    else:\n",
        "        cuota=950\n",
        "    if años>40:\n",
        "        carAños=cuota*0.2\n",
        "    else:\n",
        "        carAños=cuota*0.1\n",
        "    if toma==1:\n",
        "        carToma=cuota*0.1\n",
        "    else:\n",
        "        carToma=cuota*0\n",
        "    if lentes==1:\n",
        "        carLentes=cuota*0.05\n",
        "    else:\n",
        "        carLentes=cuota*0\n",
        "    if enfer==1:\n",
        "        carEnfer=cuota*0.05\n",
        "    else:\n",
        "        carEnfer=cuota*0\n",
        "    total=cuota+carAños+carEnfer+carLentes+carToma\n",
        "    #Datos de salida\n",
        "    print(f\"El costo total de la poliza es: {total,cuota,carAños,carEnfer,carLentes,carToma}\")"
      ],
      "metadata": {
        "id": "VWQ5l_hyYbOg"
      },
      "execution_count": null,
      "outputs": []
    },
    {
      "cell_type": "markdown",
      "source": [
        "3.10 Diseñar un algoritmo para determinar a qué lugar podrá ir de vacaciones una persona, considerando que la línea de autobuses “San Martin” Cobra por kilómetros recorridos.  Se debe considerar el costo del pasaje tanto de ida como de vuelta; los datos que se conocen y qué son fijos son: Tacna 750 km; Lima 800 km; Chiclayo 1200 km y Tumbes 1800 kilómetros. También se debe considerar la posibilidad de tener que quedarse en casa. "
      ],
      "metadata": {
        "id": "vlEDIiYqYxol"
      }
    },
    {
      "cell_type": "code",
      "source": [
        "   #Definir variables\n",
        "    dinero:float()\n",
        "    pagoKm:float()\n",
        "    mensaje:str()\n",
        "    tumbes:float()\n",
        "    chiclayo:float()\n",
        "    lima:float()\n",
        "    tacna:float()\n",
        "    #Datos de entrada\n",
        "    dinero=float(input(\"Ingrese la cantidad de dinero: \"))\n",
        "    pagoKm=float(input(\"Ingrese el pago por Km: \"))\n",
        "    #proceso\n",
        "    tumbes=pagoKm*1800\n",
        "    chiclayo=pagoKm*1200\n",
        "    lima=pagoKm*800\n",
        "    tacna=pagoKm*750\n",
        "    if dinero>=tumbes:\n",
        "        mensaje=(\"Puede viajar a Tumbes, Chiclayo, Lima, y Tacna\")\n",
        "    elif dinero>=chiclayo and dinero<tumbes:\n",
        "        mensaje=(\"Puede viaja a Chiclayo, Lima, y Tacna\")\n",
        "    elif dinero>=lima and dinero<chiclayo:\n",
        "        mensaje=(\"Puede viajar a Lima, y Tacna\")\n",
        "    elif dinero>=tacna and dinero<lima:\n",
        "        mensaje=(\"Puede viajar a Tacna\")\n",
        "    else:\n",
        "        mensaje=(\"No puede viajar F\")\n",
        "    #Datos de salida\n",
        "    print(mensaje)"
      ],
      "metadata": {
        "id": "JJT_u3YlY2bz"
      },
      "execution_count": null,
      "outputs": []
    }
  ]
}